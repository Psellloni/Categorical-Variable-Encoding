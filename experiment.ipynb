{
 "cells": [
  {
   "cell_type": "code",
   "execution_count": null,
   "id": "176f5142",
   "metadata": {},
   "outputs": [],
   "source": [
    "import pandas as pd\n",
    "import matplotlib.pyplot as plt\n",
    "from sklearn.linear_model import Lasso, Ridge, ElasticNet, LinearRegression\n",
    "from sklearn.metrics import mean_absolute_error as mae\n",
    "from sklearn.preprocessing import OrdinalEncoder\n",
    "import category_encoders as ce\n",
    "\n",
    "from utils import sum_encoder_fit_transform"
   ]
  },
  {
   "cell_type": "code",
   "execution_count": 3,
   "id": "03816b57",
   "metadata": {},
   "outputs": [
    {
     "data": {
      "text/html": [
       "<div>\n",
       "<style scoped>\n",
       "    .dataframe tbody tr th:only-of-type {\n",
       "        vertical-align: middle;\n",
       "    }\n",
       "\n",
       "    .dataframe tbody tr th {\n",
       "        vertical-align: top;\n",
       "    }\n",
       "\n",
       "    .dataframe thead th {\n",
       "        text-align: right;\n",
       "    }\n",
       "</style>\n",
       "<table border=\"1\" class=\"dataframe\">\n",
       "  <thead>\n",
       "    <tr style=\"text-align: right;\">\n",
       "      <th></th>\n",
       "      <th>Country</th>\n",
       "      <th>City</th>\n",
       "      <th>University</th>\n",
       "      <th>Program</th>\n",
       "      <th>Level</th>\n",
       "      <th>Duration_Years</th>\n",
       "      <th>Tuition_USD</th>\n",
       "      <th>Living_Cost_Index</th>\n",
       "      <th>Rent_USD</th>\n",
       "      <th>Visa_Fee_USD</th>\n",
       "      <th>Insurance_USD</th>\n",
       "      <th>Exchange_Rate</th>\n",
       "    </tr>\n",
       "  </thead>\n",
       "  <tbody>\n",
       "    <tr>\n",
       "      <th>0</th>\n",
       "      <td>USA</td>\n",
       "      <td>Cambridge</td>\n",
       "      <td>Harvard University</td>\n",
       "      <td>Computer Science</td>\n",
       "      <td>Master</td>\n",
       "      <td>2.0</td>\n",
       "      <td>55400</td>\n",
       "      <td>83.5</td>\n",
       "      <td>2200</td>\n",
       "      <td>160</td>\n",
       "      <td>1500</td>\n",
       "      <td>1.00</td>\n",
       "    </tr>\n",
       "    <tr>\n",
       "      <th>1</th>\n",
       "      <td>UK</td>\n",
       "      <td>London</td>\n",
       "      <td>Imperial College London</td>\n",
       "      <td>Data Science</td>\n",
       "      <td>Master</td>\n",
       "      <td>1.0</td>\n",
       "      <td>41200</td>\n",
       "      <td>75.8</td>\n",
       "      <td>1800</td>\n",
       "      <td>485</td>\n",
       "      <td>800</td>\n",
       "      <td>0.79</td>\n",
       "    </tr>\n",
       "    <tr>\n",
       "      <th>2</th>\n",
       "      <td>Canada</td>\n",
       "      <td>Toronto</td>\n",
       "      <td>University of Toronto</td>\n",
       "      <td>Business Analytics</td>\n",
       "      <td>Master</td>\n",
       "      <td>2.0</td>\n",
       "      <td>38500</td>\n",
       "      <td>72.5</td>\n",
       "      <td>1600</td>\n",
       "      <td>235</td>\n",
       "      <td>900</td>\n",
       "      <td>1.35</td>\n",
       "    </tr>\n",
       "    <tr>\n",
       "      <th>3</th>\n",
       "      <td>Australia</td>\n",
       "      <td>Melbourne</td>\n",
       "      <td>University of Melbourne</td>\n",
       "      <td>Engineering</td>\n",
       "      <td>Master</td>\n",
       "      <td>2.0</td>\n",
       "      <td>42000</td>\n",
       "      <td>71.2</td>\n",
       "      <td>1400</td>\n",
       "      <td>450</td>\n",
       "      <td>650</td>\n",
       "      <td>1.52</td>\n",
       "    </tr>\n",
       "    <tr>\n",
       "      <th>4</th>\n",
       "      <td>Germany</td>\n",
       "      <td>Munich</td>\n",
       "      <td>Technical University of Munich</td>\n",
       "      <td>Mechanical Engineering</td>\n",
       "      <td>Master</td>\n",
       "      <td>2.0</td>\n",
       "      <td>500</td>\n",
       "      <td>70.5</td>\n",
       "      <td>1100</td>\n",
       "      <td>75</td>\n",
       "      <td>550</td>\n",
       "      <td>0.92</td>\n",
       "    </tr>\n",
       "  </tbody>\n",
       "</table>\n",
       "</div>"
      ],
      "text/plain": [
       "     Country       City  ... Insurance_USD Exchange_Rate\n",
       "0        USA  Cambridge  ...          1500          1.00\n",
       "1         UK     London  ...           800          0.79\n",
       "2     Canada    Toronto  ...           900          1.35\n",
       "3  Australia  Melbourne  ...           650          1.52\n",
       "4    Germany     Munich  ...           550          0.92\n",
       "\n",
       "[5 rows x 12 columns]"
      ]
     },
     "execution_count": 3,
     "metadata": {},
     "output_type": "execute_result"
    }
   ],
   "source": [
    "df = pd.read_csv('International_Education_Costs.csv')\n",
    "df.head()"
   ]
  },
  {
   "cell_type": "markdown",
   "id": "07dcf06f",
   "metadata": {},
   "source": [
    "# Exploratory data analysis"
   ]
  },
  {
   "cell_type": "code",
   "execution_count": 5,
   "id": "544bfe32",
   "metadata": {},
   "outputs": [
    {
     "name": "stdout",
     "output_type": "stream",
     "text": [
      "<class 'pandas.core.frame.DataFrame'>\n",
      "RangeIndex: 907 entries, 0 to 906\n",
      "Data columns (total 12 columns):\n",
      " #   Column             Non-Null Count  Dtype  \n",
      "---  ------             --------------  -----  \n",
      " 0   Country            907 non-null    object \n",
      " 1   City               907 non-null    object \n",
      " 2   University         907 non-null    object \n",
      " 3   Program            907 non-null    object \n",
      " 4   Level              907 non-null    object \n",
      " 5   Duration_Years     907 non-null    float64\n",
      " 6   Tuition_USD        907 non-null    int64  \n",
      " 7   Living_Cost_Index  907 non-null    float64\n",
      " 8   Rent_USD           907 non-null    int64  \n",
      " 9   Visa_Fee_USD       907 non-null    int64  \n",
      " 10  Insurance_USD      907 non-null    int64  \n",
      " 11  Exchange_Rate      907 non-null    float64\n",
      "dtypes: float64(3), int64(4), object(5)\n",
      "memory usage: 85.2+ KB\n"
     ]
    }
   ],
   "source": [
    "df.info()"
   ]
  },
  {
   "cell_type": "code",
   "execution_count": 23,
   "id": "5891142f",
   "metadata": {},
   "outputs": [
    {
     "data": {
      "text/plain": [
       "(array([406.,  97.,  31.,  54.,  90.,  99.,  64.,  25.,  30.,  11.]),\n",
       " array([    0.,  6200., 12400., 18600., 24800., 31000., 37200., 43400.,\n",
       "        49600., 55800., 62000.]),\n",
       " <BarContainer object of 10 artists>)"
      ]
     },
     "execution_count": 23,
     "metadata": {},
     "output_type": "execute_result"
    },
    {
     "data": {
      "image/png": "[encoded data removed]",
      "text/plain": [
       "<Figure size 640x480 with 1 Axes>"
      ]
     },
     "metadata": {},
     "output_type": "display_data"
    }
   ],
   "source": [
    "plt.hist(df['Tuition_USD'])"
   ]
  },
  {
   "cell_type": "code",
   "execution_count": 7,
   "id": "6b69d097",
   "metadata": {},
   "outputs": [
    {
     "data": {
      "text/plain": [
       "<matplotlib.collections.PathCollection at 0x137b601a0>"
      ]
     },
     "execution_count": 7,
     "metadata": {},
     "output_type": "execute_result"
    },
    {
     "data": {
      "image/png": "[encoded data removed]",
      "text/plain": [
       "<Figure size 640x480 with 1 Axes>"
      ]
     },
     "metadata": {},
     "output_type": "display_data"
    }
   ],
   "source": [
    "plt.scatter(df['Tuition_USD'], df['Level'])"
   ]
  },
  {
   "cell_type": "code",
   "execution_count": 8,
   "id": "0ff86d3a",
   "metadata": {},
   "outputs": [
    {
     "data": {
      "text/plain": [
       "<matplotlib.collections.PathCollection at 0x137be74d0>"
      ]
     },
     "execution_count": 8,
     "metadata": {},
     "output_type": "execute_result"
    },
    {
     "data": {
      "image/png": "[encoded data removed]",
      "text/plain": [
       "<Figure size 640x480 with 1 Axes>"
      ]
     },
     "metadata": {},
     "output_type": "display_data"
    }
   ],
   "source": [
    "plt.scatter(df['Tuition_USD'], df['Program'])"
   ]
  },
  {
   "cell_type": "code",
   "execution_count": 11,
   "id": "c07fb728",
   "metadata": {},
   "outputs": [
    {
     "data": {
      "text/html": [
       "<div>\n",
       "<style scoped>\n",
       "    .dataframe tbody tr th:only-of-type {\n",
       "        vertical-align: middle;\n",
       "    }\n",
       "\n",
       "    .dataframe tbody tr th {\n",
       "        vertical-align: top;\n",
       "    }\n",
       "\n",
       "    .dataframe thead th {\n",
       "        text-align: right;\n",
       "    }\n",
       "</style>\n",
       "<table border=\"1\" class=\"dataframe\">\n",
       "  <thead>\n",
       "    <tr style=\"text-align: right;\">\n",
       "      <th></th>\n",
       "      <th>Duration_Years</th>\n",
       "      <th>Tuition_USD</th>\n",
       "      <th>Living_Cost_Index</th>\n",
       "      <th>Rent_USD</th>\n",
       "      <th>Visa_Fee_USD</th>\n",
       "      <th>Insurance_USD</th>\n",
       "      <th>Exchange_Rate</th>\n",
       "    </tr>\n",
       "  </thead>\n",
       "  <tbody>\n",
       "    <tr>\n",
       "      <th>Duration_Years</th>\n",
       "      <td>1.000000</td>\n",
       "      <td>0.140232</td>\n",
       "      <td>-0.068300</td>\n",
       "      <td>0.051565</td>\n",
       "      <td>0.017424</td>\n",
       "      <td>0.065670</td>\n",
       "      <td>0.020097</td>\n",
       "    </tr>\n",
       "    <tr>\n",
       "      <th>Tuition_USD</th>\n",
       "      <td>0.140232</td>\n",
       "      <td>1.000000</td>\n",
       "      <td>0.396830</td>\n",
       "      <td>0.724445</td>\n",
       "      <td>0.522490</td>\n",
       "      <td>0.582407</td>\n",
       "      <td>-0.116710</td>\n",
       "    </tr>\n",
       "    <tr>\n",
       "      <th>Living_Cost_Index</th>\n",
       "      <td>-0.068300</td>\n",
       "      <td>0.396830</td>\n",
       "      <td>1.000000</td>\n",
       "      <td>0.811128</td>\n",
       "      <td>0.256820</td>\n",
       "      <td>0.754393</td>\n",
       "      <td>-0.198685</td>\n",
       "    </tr>\n",
       "    <tr>\n",
       "      <th>Rent_USD</th>\n",
       "      <td>0.051565</td>\n",
       "      <td>0.724445</td>\n",
       "      <td>0.811128</td>\n",
       "      <td>1.000000</td>\n",
       "      <td>0.374079</td>\n",
       "      <td>0.776770</td>\n",
       "      <td>-0.193944</td>\n",
       "    </tr>\n",
       "    <tr>\n",
       "      <th>Visa_Fee_USD</th>\n",
       "      <td>0.017424</td>\n",
       "      <td>0.522490</td>\n",
       "      <td>0.256820</td>\n",
       "      <td>0.374079</td>\n",
       "      <td>1.000000</td>\n",
       "      <td>0.129655</td>\n",
       "      <td>-0.077886</td>\n",
       "    </tr>\n",
       "    <tr>\n",
       "      <th>Insurance_USD</th>\n",
       "      <td>0.065670</td>\n",
       "      <td>0.582407</td>\n",
       "      <td>0.754393</td>\n",
       "      <td>0.776770</td>\n",
       "      <td>0.129655</td>\n",
       "      <td>1.000000</td>\n",
       "      <td>-0.189426</td>\n",
       "    </tr>\n",
       "    <tr>\n",
       "      <th>Exchange_Rate</th>\n",
       "      <td>0.020097</td>\n",
       "      <td>-0.116710</td>\n",
       "      <td>-0.198685</td>\n",
       "      <td>-0.193944</td>\n",
       "      <td>-0.077886</td>\n",
       "      <td>-0.189426</td>\n",
       "      <td>1.000000</td>\n",
       "    </tr>\n",
       "  </tbody>\n",
       "</table>\n",
       "</div>"
      ],
      "text/plain": [
       "                   Duration_Years  Tuition_USD  Living_Cost_Index  Rent_USD  \\\n",
       "Duration_Years           1.000000     0.140232          -0.068300  0.051565   \n",
       "Tuition_USD              0.140232     1.000000           0.396830  0.724445   \n",
       "Living_Cost_Index       -0.068300     0.396830           1.000000  0.811128   \n",
       "Rent_USD                 0.051565     0.724445           0.811128  1.000000   \n",
       "Visa_Fee_USD             0.017424     0.522490           0.256820  0.374079   \n",
       "Insurance_USD            0.065670     0.582407           0.754393  0.776770   \n",
       "Exchange_Rate            0.020097    -0.116710          -0.198685 -0.193944   \n",
       "\n",
       "                   Visa_Fee_USD  Insurance_USD  Exchange_Rate  \n",
       "Duration_Years         0.017424       0.065670       0.020097  \n",
       "Tuition_USD            0.522490       0.582407      -0.116710  \n",
       "Living_Cost_Index      0.256820       0.754393      -0.198685  \n",
       "Rent_USD               0.374079       0.776770      -0.193944  \n",
       "Visa_Fee_USD           1.000000       0.129655      -0.077886  \n",
       "Insurance_USD          0.129655       1.000000      -0.189426  \n",
       "Exchange_Rate         -0.077886      -0.189426       1.000000  "
      ]
     },
     "execution_count": 11,
     "metadata": {},
     "output_type": "execute_result"
    }
   ],
   "source": [
    "df.corr(numeric_only=True)"
   ]
  },
  {
   "cell_type": "markdown",
   "id": "45f12f55",
   "metadata": {},
   "source": [
    "# Data preprocessing and model training"
   ]
  },
  {
   "cell_type": "code",
   "execution_count": 13,
   "id": "bd4fe515",
   "metadata": {},
   "outputs": [],
   "source": [
    "df2 = df[['Duration_Years', 'Tuition_USD', 'Living_Cost_Index', 'Rent_USD', 'Visa_Fee_USD', 'Insurance_USD', 'Exchange_Rate']]\n",
    "\n",
    "sep = int(0.8 * len(df2))\n",
    "\n",
    "df2_train = df2.iloc[:sep]\n",
    "df2_test = df2.iloc[sep:]"
   ]
  },
  {
   "cell_type": "code",
   "execution_count": 17,
   "id": "2cf4632e",
   "metadata": {},
   "outputs": [
    {
     "name": "stdout",
     "output_type": "stream",
     "text": [
      "LinearRegression: 4078.7593641799003\n"
     ]
    }
   ],
   "source": [
    "model = LinearRegression().fit(df2_train.drop('Tuition_USD', axis=1), df2_train['Tuition_USD'])\n",
    "pred = model.predict(df2_test.drop('Tuition_USD', axis=1))\n",
    "print('LinearRegression:', mae(df2_test['Tuition_USD'], pred))"
   ]
  },
  {
   "cell_type": "code",
   "execution_count": 20,
   "id": "7ba1f38a",
   "metadata": {},
   "outputs": [
    {
     "name": "stdout",
     "output_type": "stream",
     "text": [
      "LassoRegression: 4059.996715158839\n"
     ]
    }
   ],
   "source": [
    "model = Lasso(alpha=200).fit(df2_train.drop('Tuition_USD', axis=1), df2_train['Tuition_USD'])\n",
    "pred = model.predict(df2_test.drop('Tuition_USD', axis=1))\n",
    "print('LassoRegression:', mae(df2_test['Tuition_USD'], pred))"
   ]
  },
  {
   "cell_type": "code",
   "execution_count": 21,
   "id": "441e368a",
   "metadata": {},
   "outputs": [
    {
     "name": "stdout",
     "output_type": "stream",
     "text": [
      "RidgeRegression: 4065.168058231079\n"
     ]
    }
   ],
   "source": [
    "model = Ridge(alpha=200).fit(df2_train.drop('Tuition_USD', axis=1), df2_train['Tuition_USD'])\n",
    "pred = model.predict(df2_test.drop('Tuition_USD', axis=1))\n",
    "print('RidgeRegression:', mae(df2_test['Tuition_USD'], pred))"
   ]
  },
  {
   "cell_type": "code",
   "execution_count": 22,
   "id": "2a703fc6",
   "metadata": {},
   "outputs": [
    {
     "name": "stdout",
     "output_type": "stream",
     "text": [
      "LassoRegression: 5767.6035702336\n"
     ]
    }
   ],
   "source": [
    "model = ElasticNet(alpha=200).fit(df2_train.drop('Tuition_USD', axis=1), df2_train['Tuition_USD'])\n",
    "pred = model.predict(df2_test.drop('Tuition_USD', axis=1))\n",
    "print('LassoRegression:', mae(df2_test['Tuition_USD'], pred))"
   ]
  },
  {
   "cell_type": "markdown",
   "id": "4c121946",
   "metadata": {},
   "source": [
    "# One Hot Coding"
   ]
  },
  {
   "cell_type": "code",
   "execution_count": 46,
   "id": "c7859192",
   "metadata": {},
   "outputs": [],
   "source": [
    "categorical_variables = ['Country', 'City', 'University', 'Program', 'Level']\n",
    "\n",
    "df2 = df.copy()\n",
    "\n",
    "for var in categorical_variables:\n",
    "    one_hot = pd.get_dummies(df2[var])\n",
    "    df2 = df2.drop(var, axis = 1)\n",
    "    df2 = df2.join(one_hot, lsuffix='_left', rsuffix='_right')"
   ]
  },
  {
   "cell_type": "code",
   "execution_count": 47,
   "id": "10931edb",
   "metadata": {},
   "outputs": [
    {
     "name": "stdout",
     "output_type": "stream",
     "text": [
      "LinearRegression: 301774.99372127786\n",
      "LassoRegression: 2577.622517908086\n",
      "RidgeRegression: 2995.8958456734754\n",
      "LassoRegression: 4055.6191830095518\n"
     ]
    }
   ],
   "source": [
    "sep = int(0.8 * len(df2))\n",
    "\n",
    "df2_train = df2.iloc[:sep]\n",
    "df2_test = df2.iloc[sep:]\n",
    "\n",
    "model = LinearRegression().fit(df2_train.drop('Tuition_USD', axis=1), df2_train['Tuition_USD'])\n",
    "pred = model.predict(df2_test.drop('Tuition_USD', axis=1))\n",
    "print('LinearRegression:', mae(df2_test['Tuition_USD'], pred))\n",
    "\n",
    "model = Lasso(alpha=5).fit(df2_train.drop('Tuition_USD', axis=1), df2_train['Tuition_USD'])\n",
    "pred = model.predict(df2_test.drop('Tuition_USD', axis=1))\n",
    "print('LassoRegression:', mae(df2_test['Tuition_USD'], pred))\n",
    "\n",
    "model = Ridge(alpha=5).fit(df2_train.drop('Tuition_USD', axis=1), df2_train['Tuition_USD'])\n",
    "pred = model.predict(df2_test.drop('Tuition_USD', axis=1))\n",
    "print('RidgeRegression:', mae(df2_test['Tuition_USD'], pred))\n",
    "\n",
    "model = ElasticNet(alpha=5).fit(df2_train.drop('Tuition_USD', axis=1), df2_train['Tuition_USD'])\n",
    "pred = model.predict(df2_test.drop('Tuition_USD', axis=1))\n",
    "print('LassoRegression:', mae(df2_test['Tuition_USD'], pred))"
   ]
  },
  {
   "cell_type": "markdown",
   "id": "bc52125e",
   "metadata": {},
   "source": [
    "# Ordinal encoding"
   ]
  },
  {
   "cell_type": "code",
   "execution_count": null,
   "id": "2bb2cd1b",
   "metadata": {},
   "outputs": [],
   "source": [
    "categorical_variables = ['Country', 'City', 'University', 'Program', 'Level']\n",
    "df2 = df.copy()\n",
    "\n",
    "enc = OrdinalEncoder()\n",
    "enc.fit(df2[categorical_variables])\n",
    "df2[categorical_variables] = enc.transform(df2[categorical_variables])"
   ]
  },
  {
   "cell_type": "code",
   "execution_count": 52,
   "id": "1b82ab4e",
   "metadata": {},
   "outputs": [
    {
     "name": "stdout",
     "output_type": "stream",
     "text": [
      "LinearRegression: 4374.51674632943\n",
      "LassoRegression: 4344.10815674187\n",
      "RidgeRegression: 4373.883794736193\n",
      "LassoRegression: 4295.524652217956\n"
     ]
    }
   ],
   "source": [
    "sep = int(0.8 * len(df2))\n",
    "\n",
    "df2_train = df2.iloc[:sep]\n",
    "df2_test = df2.iloc[sep:]\n",
    "\n",
    "model = LinearRegression().fit(df2_train.drop('Tuition_USD', axis=1), df2_train['Tuition_USD'])\n",
    "pred = model.predict(df2_test.drop('Tuition_USD', axis=1))\n",
    "print('LinearRegression:', mae(df2_test['Tuition_USD'], pred))\n",
    "\n",
    "model = Lasso(alpha=200).fit(df2_train.drop('Tuition_USD', axis=1), df2_train['Tuition_USD'])\n",
    "pred = model.predict(df2_test.drop('Tuition_USD', axis=1))\n",
    "print('LassoRegression:', mae(df2_test['Tuition_USD'], pred))\n",
    "\n",
    "model = Ridge(alpha=5).fit(df2_train.drop('Tuition_USD', axis=1), df2_train['Tuition_USD'])\n",
    "pred = model.predict(df2_test.drop('Tuition_USD', axis=1))\n",
    "print('RidgeRegression:', mae(df2_test['Tuition_USD'], pred))\n",
    "\n",
    "model = ElasticNet(alpha=5).fit(df2_train.drop('Tuition_USD', axis=1), df2_train['Tuition_USD'])\n",
    "pred = model.predict(df2_test.drop('Tuition_USD', axis=1))\n",
    "print('LassoRegression:', mae(df2_test['Tuition_USD'], pred))"
   ]
  },
  {
   "cell_type": "markdown",
   "id": "59174c6d",
   "metadata": {},
   "source": [
    "# Sum encoding"
   ]
  },
  {
   "cell_type": "code",
   "execution_count": 4,
   "id": "a5e5a4f6",
   "metadata": {},
   "outputs": [],
   "source": [
    "categorical_variables = ['Country', 'City', 'University', 'Program', 'Level']\n",
    "df2 = df.copy()\n",
    "\n",
    "df2 = sum_encoder_fit_transform(df=df2, cat_variables=categorical_variables, target_name=\"Tuition_USD\")"
   ]
  },
  {
   "cell_type": "code",
   "execution_count": 5,
   "id": "69af7843",
   "metadata": {},
   "outputs": [
    {
     "name": "stdout",
     "output_type": "stream",
     "text": [
      "LinearRegression: 636.6136794681584\n",
      "LassoRegression: 398.65155730156835\n",
      "RidgeRegression: 435.71415157037995\n",
      "LassoRegression: 400.73546379938523\n"
     ]
    }
   ],
   "source": [
    "sep = int(0.8 * len(df2))\n",
    "\n",
    "df2_train = df2.iloc[:sep]\n",
    "df2_test = df2.iloc[sep:]\n",
    "\n",
    "model = LinearRegression().fit(df2_train.drop('Tuition_USD', axis=1), df2_train['Tuition_USD'])\n",
    "pred = model.predict(df2_test.drop('Tuition_USD', axis=1))\n",
    "print('LinearRegression:', mae(df2_test['Tuition_USD'], pred))\n",
    "\n",
    "model = Lasso(alpha=2000).fit(df2_train.drop('Tuition_USD', axis=1), df2_train['Tuition_USD'])\n",
    "pred = model.predict(df2_test.drop('Tuition_USD', axis=1))\n",
    "print('LassoRegression:', mae(df2_test['Tuition_USD'], pred))\n",
    "\n",
    "model = Ridge(alpha=2000).fit(df2_train.drop('Tuition_USD', axis=1), df2_train['Tuition_USD'])\n",
    "pred = model.predict(df2_test.drop('Tuition_USD', axis=1))\n",
    "print('RidgeRegression:', mae(df2_test['Tuition_USD'], pred))\n",
    "\n",
    "model = ElasticNet(alpha=2000).fit(df2_train.drop('Tuition_USD', axis=1), df2_train['Tuition_USD'])\n",
    "pred = model.predict(df2_test.drop('Tuition_USD', axis=1))\n",
    "print('LassoRegression:', mae(df2_test['Tuition_USD'], pred))"
   ]
  },
  {
   "cell_type": "markdown",
   "id": "91ee0562",
   "metadata": {},
   "source": [
    "# Helmet encoding"
   ]
  },
  {
   "cell_type": "code",
   "execution_count": null,
   "id": "6f3a41eb",
   "metadata": {},
   "outputs": [],
   "source": [
    "categorical_variables = ['Country', 'City', 'University', 'Program', 'Level']\n",
    "df2 = df.copy()\n",
    "\n",
    "encoder = ce.HelmertEncoder(cols=categorical_variables, drop_invariant=True)\n",
    "dfh = encoder.fit_transform(df2[categorical_variables])\n",
    "df2 = pd.concat([df2, dfh], axis=1)\n",
    "df2 = df2.drop(categorical_variables, axis=1)"
   ]
  },
  {
   "cell_type": "code",
   "execution_count": 13,
   "id": "a01fd7a6",
   "metadata": {},
   "outputs": [
    {
     "name": "stdout",
     "output_type": "stream",
     "text": [
      "LinearRegression: 291457.24547336705\n"
     ]
    },
    {
     "name": "stderr",
     "output_type": "stream",
     "text": [
      "/Library/Frameworks/Python.framework/Versions/3.13/lib/python3.13/site-packages/sklearn/linear_model/_coordinate_descent.py:695: ConvergenceWarning: Objective did not converge. You might want to increase the number of iterations, check the scale of the features or consider increasing regularisation. Duality gap: 1.421e+09, tolerance: 2.032e+07\n",
      "  model = cd_fast.enet_coordinate_descent(\n"
     ]
    },
    {
     "name": "stdout",
     "output_type": "stream",
     "text": [
      "LassoRegression: 3956.578823417188\n",
      "RidgeRegression: 10683.326852727447\n",
      "LassoRegression: 5232.7506095051085\n"
     ]
    }
   ],
   "source": [
    "sep = int(0.8 * len(df2))\n",
    "\n",
    "df2_train = df2.iloc[:sep]\n",
    "df2_test = df2.iloc[sep:]\n",
    "\n",
    "model = LinearRegression().fit(df2_train.drop('Tuition_USD', axis=1), df2_train['Tuition_USD'])\n",
    "pred = model.predict(df2_test.drop('Tuition_USD', axis=1))\n",
    "print('LinearRegression:', mae(df2_test['Tuition_USD'], pred))\n",
    "\n",
    "model = Lasso(alpha=20).fit(df2_train.drop('Tuition_USD', axis=1), df2_train['Tuition_USD'])\n",
    "pred = model.predict(df2_test.drop('Tuition_USD', axis=1))\n",
    "print('LassoRegression:', mae(df2_test['Tuition_USD'], pred))\n",
    "\n",
    "model = Ridge(alpha=20).fit(df2_train.drop('Tuition_USD', axis=1), df2_train['Tuition_USD'])\n",
    "pred = model.predict(df2_test.drop('Tuition_USD', axis=1))\n",
    "print('RidgeRegression:', mae(df2_test['Tuition_USD'], pred))\n",
    "\n",
    "model = ElasticNet(alpha=20).fit(df2_train.drop('Tuition_USD', axis=1), df2_train['Tuition_USD'])\n",
    "pred = model.predict(df2_test.drop('Tuition_USD', axis=1))\n",
    "print('LassoRegression:', mae(df2_test['Tuition_USD'], pred))"
   ]
  },
  {
   "cell_type": "markdown",
   "id": "c4f6d137",
   "metadata": {},
   "source": [
    "# Polynomial encoding"
   ]
  },
  {
   "cell_type": "code",
   "execution_count": 20,
   "id": "f3ce31fb",
   "metadata": {},
   "outputs": [
    {
     "name": "stderr",
     "output_type": "stream",
     "text": [
      "/Library/Frameworks/Python.framework/Versions/3.13/lib/python3.13/site-packages/patsy/contrasts.py:272: RuntimeWarning: overflow encountered in power\n",
      "  raw_poly = scores.reshape((-1, 1)) ** np.arange(n).reshape((1, -1))\n",
      "/Library/Frameworks/Python.framework/Versions/3.13/lib/python3.13/site-packages/patsy/contrasts.py:272: RuntimeWarning: overflow encountered in power\n",
      "  raw_poly = scores.reshape((-1, 1)) ** np.arange(n).reshape((1, -1))\n"
     ]
    }
   ],
   "source": [
    "categorical_variables = ['Country', 'City', 'University', 'Program', 'Level']\n",
    "df2 = df.copy()\n",
    "\n",
    "encoder = ce.PolynomialEncoder(cols=categorical_variables, drop_invariant=True)\n",
    "dfh = encoder.fit_transform(df2[categorical_variables])\n",
    "df2 = pd.concat([df2, dfh], axis=1)\n",
    "df2 = df2.drop(categorical_variables, axis=1)\n",
    "df2 = df2.dropna(axis=1)"
   ]
  },
  {
   "cell_type": "code",
   "execution_count": 24,
   "id": "77435fea",
   "metadata": {},
   "outputs": [
    {
     "name": "stdout",
     "output_type": "stream",
     "text": [
      "LinearRegression: 135612.26130895063\n",
      "LassoRegression: 4371.357180883756\n",
      "RidgeRegression: 4039.3588874826687\n",
      "LassoRegression: 5767.455871761096\n"
     ]
    }
   ],
   "source": [
    "sep = int(0.8 * len(df2))\n",
    "\n",
    "df2_train = df2.iloc[:sep]\n",
    "df2_test = df2.iloc[sep:]\n",
    "\n",
    "model = LinearRegression().fit(df2_train.drop('Tuition_USD', axis=1), df2_train['Tuition_USD'])\n",
    "pred = model.predict(df2_test.drop('Tuition_USD', axis=1))\n",
    "print('LinearRegression:', mae(df2_test['Tuition_USD'], pred))\n",
    "\n",
    "model = Lasso(alpha=200).fit(df2_train.drop('Tuition_USD', axis=1), df2_train['Tuition_USD'])\n",
    "pred = model.predict(df2_test.drop('Tuition_USD', axis=1))\n",
    "print('LassoRegression:', mae(df2_test['Tuition_USD'], pred))\n",
    "\n",
    "model = Ridge(alpha=200).fit(df2_train.drop('Tuition_USD', axis=1), df2_train['Tuition_USD'])\n",
    "pred = model.predict(df2_test.drop('Tuition_USD', axis=1))\n",
    "print('RidgeRegression:', mae(df2_test['Tuition_USD'], pred))\n",
    "\n",
    "model = ElasticNet(alpha=200).fit(df2_train.drop('Tuition_USD', axis=1), df2_train['Tuition_USD'])\n",
    "pred = model.predict(df2_test.drop('Tuition_USD', axis=1))\n",
    "print('LassoRegression:', mae(df2_test['Tuition_USD'], pred))"
   ]
  },
  {
   "cell_type": "markdown",
   "id": "7b8c0a35",
   "metadata": {},
   "source": [
    "# Backward Difference encoding"
   ]
  },
  {
   "cell_type": "code",
   "execution_count": 25,
   "id": "6f0caefa",
   "metadata": {},
   "outputs": [],
   "source": [
    "categorical_variables = ['Country', 'City', 'University', 'Program', 'Level']\n",
    "df2 = df.copy()\n",
    "\n",
    "encoder = ce.BackwardDifferenceEncoder(cols=categorical_variables, drop_invariant=True)\n",
    "dfh = encoder.fit_transform(df2[categorical_variables])\n",
    "df2 = pd.concat([df2, dfh], axis=1)\n",
    "df2 = df2.drop(categorical_variables, axis=1)"
   ]
  },
  {
   "cell_type": "code",
   "execution_count": 29,
   "id": "8a571b0c",
   "metadata": {},
   "outputs": [
    {
     "name": "stdout",
     "output_type": "stream",
     "text": [
      "LinearRegression: 10507.410318467419\n",
      "LassoRegression: 4057.6665444298474\n",
      "RidgeRegression: 4031.6270873765807\n",
      "LassoRegression: 5769.697173135286\n"
     ]
    }
   ],
   "source": [
    "sep = int(0.8 * len(df2))\n",
    "\n",
    "df2_train = df2.iloc[:sep]\n",
    "df2_test = df2.iloc[sep:]\n",
    "\n",
    "model = LinearRegression().fit(df2_train.drop('Tuition_USD', axis=1), df2_train['Tuition_USD'])\n",
    "pred = model.predict(df2_test.drop('Tuition_USD', axis=1))\n",
    "print('LinearRegression:', mae(df2_test['Tuition_USD'], pred))\n",
    "\n",
    "model = Lasso(alpha=2000).fit(df2_train.drop('Tuition_USD', axis=1), df2_train['Tuition_USD'])\n",
    "pred = model.predict(df2_test.drop('Tuition_USD', axis=1))\n",
    "print('LassoRegression:', mae(df2_test['Tuition_USD'], pred))\n",
    "\n",
    "model = Ridge(alpha=2000).fit(df2_train.drop('Tuition_USD', axis=1), df2_train['Tuition_USD'])\n",
    "pred = model.predict(df2_test.drop('Tuition_USD', axis=1))\n",
    "print('RidgeRegression:', mae(df2_test['Tuition_USD'], pred))\n",
    "\n",
    "model = ElasticNet(alpha=200).fit(df2_train.drop('Tuition_USD', axis=1), df2_train['Tuition_USD'])\n",
    "pred = model.predict(df2_test.drop('Tuition_USD', axis=1))\n",
    "print('LassoRegression:', mae(df2_test['Tuition_USD'], pred))"
   ]
  },
  {
   "cell_type": "markdown",
   "id": "ee2984b4",
   "metadata": {},
   "source": [
    "# Binary encoding"
   ]
  },
  {
   "cell_type": "code",
   "execution_count": 27,
   "id": "b66dc888",
   "metadata": {},
   "outputs": [],
   "source": [
    "categorical_variables = ['Country', 'City', 'University', 'Program', 'Level']\n",
    "df2 = df.copy()\n",
    "\n",
    "encoder = ce.BinaryEncoder(cols=categorical_variables, drop_invariant=True)\n",
    "dfh = encoder.fit_transform(df2[categorical_variables])\n",
    "df2 = pd.concat([df2, dfh], axis=1)\n",
    "df2 = df2.drop(categorical_variables, axis=1)"
   ]
  },
  {
   "cell_type": "code",
   "execution_count": 28,
   "id": "e0f14f19",
   "metadata": {},
   "outputs": [
    {
     "name": "stdout",
     "output_type": "stream",
     "text": [
      "LinearRegression: 10507.410318467419\n",
      "LassoRegression: 5618.856176919678\n",
      "RidgeRegression: 4570.435318288917\n",
      "LassoRegression: 5769.697173135286\n"
     ]
    }
   ],
   "source": [
    "sep = int(0.8 * len(df2))\n",
    "\n",
    "df2_train = df2.iloc[:sep]\n",
    "df2_test = df2.iloc[sep:]\n",
    "\n",
    "model = LinearRegression().fit(df2_train.drop('Tuition_USD', axis=1), df2_train['Tuition_USD'])\n",
    "pred = model.predict(df2_test.drop('Tuition_USD', axis=1))\n",
    "print('LinearRegression:', mae(df2_test['Tuition_USD'], pred))\n",
    "\n",
    "model = Lasso(alpha=200).fit(df2_train.drop('Tuition_USD', axis=1), df2_train['Tuition_USD'])\n",
    "pred = model.predict(df2_test.drop('Tuition_USD', axis=1))\n",
    "print('LassoRegression:', mae(df2_test['Tuition_USD'], pred))\n",
    "\n",
    "model = Ridge(alpha=200).fit(df2_train.drop('Tuition_USD', axis=1), df2_train['Tuition_USD'])\n",
    "pred = model.predict(df2_test.drop('Tuition_USD', axis=1))\n",
    "print('RidgeRegression:', mae(df2_test['Tuition_USD'], pred))\n",
    "\n",
    "model = ElasticNet(alpha=200).fit(df2_train.drop('Tuition_USD', axis=1), df2_train['Tuition_USD'])\n",
    "pred = model.predict(df2_test.drop('Tuition_USD', axis=1))\n",
    "print('LassoRegression:', mae(df2_test['Tuition_USD'], pred))"
   ]
  }
 ],
 "metadata": {
  "kernelspec": {
   "display_name": "Python 3",
   "language": "python",
   "name": "python3"
  },
  "language_info": {
   "codemirror_mode": {
    "name": "ipython",
    "version": 3
   },
   "file_extension": ".py",
   "mimetype": "text/x-python",
   "name": "python",
   "nbconvert_exporter": "python",
   "pygments_lexer": "ipython3",
   "version": "3.13.3"
  }
 },
 "nbformat": 4,
 "nbformat_minor": 5
}
